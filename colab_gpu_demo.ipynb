{
  "cells": [
    {
      "cell_type": "markdown",
      "metadata": {},
      "source": [
        "# 🚀 KLT GPU Demo - Simple GPU vs CPU Comparison\n",
        "\n",
        "This notebook demonstrates GPU vs CPU execution in the KLT algorithm with a simple, clear example.\n",
        "\n",
        "## 🎯 What This Does:\n",
        "- **Shows GPU vs CPU performance** side by side\n",
        "- **Demonstrates GPU function calls** in KLT algorithm\n",
        "- **Clear output** showing when GPU is used vs CPU\n",
        "- **Simple compilation** and execution\n",
        "\n",
        "## 📋 Prerequisites:\n",
        "- CUDA-enabled GPU (Tesla T4, V100, A100, etc.)\n",
        "- All KLT source files uploaded\n"
      ]
    }
  ],
  "metadata": {
    "language_info": {
      "name": "python"
    }
  },
  "nbformat": 4,
  "nbformat_minor": 2
}
